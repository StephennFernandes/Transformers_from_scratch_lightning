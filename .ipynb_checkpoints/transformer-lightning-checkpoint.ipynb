{
 "cells": [
  {
   "cell_type": "code",
   "execution_count": 1,
   "metadata": {},
   "outputs": [],
   "source": [
    "import pytorch_lightning as pl \n"
   ]
  },
  {
   "cell_type": "code",
   "execution_count": null,
   "metadata": {},
   "outputs": [],
   "source": []
  },
  {
   "cell_type": "code",
   "execution_count": 3,
   "metadata": {},
   "outputs": [
    {
     "data": {
      "text/plain": [
       "<torch._C.Generator at 0x7fa9fc208f90>"
      ]
     },
     "execution_count": 3,
     "metadata": {},
     "output_type": "execute_result"
    }
   ],
   "source": [
    "import csv\n",
    "from torch.utils.data import DataLoader\n",
    "from torch.nn.utils.rnn import pad_sequence\n",
    "import math\n",
    "import torchtext\n",
    "import torch\n",
    "import torch.nn as nn\n",
    "from torchtext.data.utils import get_tokenizer\n",
    "from collections import Counter\n",
    "from torchtext.vocab import Vocab\n",
    "from torch import Tensor\n",
    "import io\n",
    "import time\n",
    "from torchtext.utils import unicode_csv_reader\n",
    "torch.manual_seed(0)"
   ]
  },
  {
   "cell_type": "code",
   "execution_count": 4,
   "metadata": {},
   "outputs": [],
   "source": [
    "class PositionalEncoding(nn.Module):\n",
    "    def __init__(self, emb_size, dropout, maxlen):\n",
    "        super(PositionalEncoding, self).__init__()\n",
    "        den = torch.exp(- torch.arange(0, emb_size, 2)\n",
    "                        * math.log(10000) / emb_size)\n",
    "        pos = torch.arange(0, maxlen).reshape(maxlen, 1)\n",
    "        pos_embedding = torch.zeros((maxlen, emb_size))\n",
    "        pos_embedding[:, 0::2] = torch.sin(pos * den)\n",
    "        pos_embedding[:, 1::2] = torch.cos(pos * den)\n",
    "        pos_embedding = pos_embedding.unsqueeze(-2)\n",
    "\n",
    "        self.dropout = nn.Dropout(dropout)\n",
    "        self.register_buffer('pos_embedding', pos_embedding)\n",
    "\n",
    "    def forward(self, token_embedding):\n",
    "        return self.dropout(token_embedding +\n",
    "                            self.pos_embedding[:token_embedding.size(0), :])\n",
    "\n",
    "\n",
    "class TokenEmbedding(nn.Module):\n",
    "    def __init__(self, vocab_size: int, emb_size):\n",
    "        super(TokenEmbedding, self).__init__()\n",
    "        self.embedding = nn.Embedding(vocab_size, emb_size)\n",
    "        self.emb_size = emb_size\n",
    "\n",
    "    def forward(self, tokens):\n",
    "        return self.embedding(tokens.long()) * math.sqrt(self.emb_size)"
   ]
  },
  {
   "cell_type": "code",
   "execution_count": 5,
   "metadata": {},
   "outputs": [],
   "source": [
    "class SelfAttention(nn.Module):\n",
    "    def __init__(self, embed_size, heads):\n",
    "        super(SelfAttention, self).__init__()\n",
    "        self.embed_size = embed_size\n",
    "        self.heads = heads\n",
    "\n",
    "        self.head_dim = embed_size // heads\n",
    "\n",
    "        assert(self.head_dim * heads == embed_size), \"Embed size needs to be divisible by heads\"\n",
    "\n",
    "        self.values = nn.Linear(self.embed_size, self.embed_size, bias=False)\n",
    "        self.keys = nn.Linear(self.embed_size, self.embed_size, bias=False)\n",
    "        self.queries = nn.Linear(self.embed_size, self.embed_size, bias=False)\n",
    "        self.fc_out = nn.Linear(heads*self.head_dim, embed_size)\n",
    "\n",
    "    def forward(self, values, keys, queries, mask):\n",
    "        N = queries.shape[0]  # get no of training examples\n",
    "\n",
    "        value_len, key_len, query_len = values.shape[1], keys.shape[1], queries.shape[1]\n",
    "\n",
    "        # we need to send Q,K,V through linear layers\n",
    "        values = self.values(values)\n",
    "        keys = self.keys(keys)\n",
    "        queries = self.queries(queries)\n",
    "\n",
    "        # split embedding into self.heads pieces\n",
    "        values = values.reshape(N, value_len, self.heads, self.head_dim)\n",
    "        keys = keys.reshape(N, key_len, self.heads, self.head_dim)\n",
    "        queries = queries.reshape(N, query_len, self.heads, self.head_dim)\n",
    "\n",
    "        energy = torch.einsum(\"nqhd,nkhd -> nhqk\", [queries, keys])\n",
    "        # queries shape: (N, query_len, heads, heads_dim)\n",
    "        # keys shape: (N, key_len, heads, heads_dim)\n",
    "        # energy shape: (N, heads, query_len, key_len)\n",
    "\n",
    "        if mask is not None:\n",
    "            energy = energy.masked_fill(mask == 0, float(\"-1e20\"))\n",
    "\n",
    "        attention = torch.softmax(energy / (self.embed_size ** (1/2)), dim=3)\n",
    "\n",
    "        out = torch.einsum(\n",
    "            \"nhql,nlhd -> nqhd\", [attention, values]).reshape(N, query_len, self.heads*self.head_dim)\n",
    "        # attention shape: (N, heads, query_len, key_lem)\n",
    "        # values shape: (N, value_len, heads, heads_dim)\n",
    "        # out shape: (N, query_len, heads, head_dim)\n",
    "\n",
    "        out = self.fc_out(out)\n",
    "        return out\n",
    "\n",
    "\n",
    "class TransformerBlock(nn.Module):\n",
    "    def __init__(self, embed_size, heads, dropout, forward_expansion):\n",
    "        super(TransformerBlock, self).__init__()\n",
    "        self.attention = SelfAttention(embed_size, heads)\n",
    "        self.norm1 = nn.LayerNorm(embed_size)\n",
    "        self.norm2 = nn.LayerNorm(embed_size)\n",
    "\n",
    "        self.feed_forward = nn.Sequential(\n",
    "            nn.Linear(embed_size, forward_expansion*embed_size),\n",
    "            nn.ReLU(),\n",
    "            nn.Linear(forward_expansion*embed_size, embed_size))\n",
    "\n",
    "        self.dropout = nn.Dropout(dropout)\n",
    "\n",
    "    def forward(self, value, key, query, mask):\n",
    "        attention = self.attention(value, key, query, mask)\n",
    "        x = self.dropout(self.norm1(attention + query))\n",
    "        forward = self.feed_forward(x)\n",
    "        out = self.dropout(self.norm2(forward + x))\n",
    "        return out\n",
    "\n",
    "\n",
    "class Encoder(nn.Module):\n",
    "    def __init__(self, src_vocab_size, embed_size,\n",
    "                 num_layers, heads, forward_expansion,\n",
    "                 dropout, max_length):\n",
    "\n",
    "        super(Encoder, self).__init__()\n",
    "        self.embed_size = embed_size\n",
    "        self.word_embedding = TokenEmbedding(src_vocab_size, embed_size)\n",
    "        self.positional_embedding = PositionalEncoding(\n",
    "            embed_size, dropout, max_length)\n",
    "        self.dropout = nn.Dropout(dropout)\n",
    "        self.layers = nn.ModuleList([TransformerBlock(embed_size, heads,\n",
    "                                                      dropout=dropout, forward_expansion=forward_expansion) for _ in range(num_layers)])\n",
    "\n",
    "    def forward(self, x, mask):\n",
    "\n",
    "        # *[Done] needs to be replaced with sinsoidal position embeddings from official pytorch docs\n",
    "        out = self.dropout(self.positional_embedding(self.word_embedding(x)))\n",
    "\n",
    "        for layer in self.layers:\n",
    "            out = layer(out, out, out, mask)\n",
    "        return out\n",
    "\n",
    "\n",
    "class DecoderBlock(nn.Module):\n",
    "    def __init__(self, embed_size, heads, forward_expansion, dropout):\n",
    "        super(DecoderBlock, self).__init__()\n",
    "        self.attention = SelfAttention(embed_size, heads)\n",
    "        self.norm = nn.LayerNorm(embed_size)\n",
    "        self.transformer_block = TransformerBlock(\n",
    "            embed_size, heads, dropout, forward_expansion)\n",
    "        self.dropout = nn.Dropout(dropout)\n",
    "\n",
    "    def forward(self, x, value, key, src_mask, trg_mask):\n",
    "        attention = self.attention(x, x, x, trg_mask)\n",
    "        query = self.dropout(self.norm(attention + x))\n",
    "        out = self.transformer_block(value, key, query, src_mask)\n",
    "        return out\n",
    "\n",
    "\n",
    "class Decoder(nn.Module):\n",
    "    def __init__(self, trg_vocab_size, embed_size,  num_layers, heads, forward_expansion, dropout, max_length):\n",
    "        super(Decoder, self).__init__()\n",
    "        self.word_embedding = TokenEmbedding(trg_vocab_size, embed_size)\n",
    "        self.positional_embedding = PositionalEncoding(\n",
    "            embed_size, dropout, max_length)\n",
    "\n",
    "        self.layers = nn.ModuleList([DecoderBlock(\n",
    "            embed_size, heads, forward_expansion, dropout)for _ in range(num_layers)])\n",
    "\n",
    "        self.fc_out = nn.Linear(embed_size, trg_vocab_size)\n",
    "        self.dropout = nn.Dropout(dropout)\n",
    "\n",
    "    def forward(self, x, enc_out, src_mask, trg_mask):\n",
    "\n",
    "        x = self.dropout(self.positional_embedding(self.word_embedding(x)))\n",
    "\n",
    "        for layer in self.layers:\n",
    "            x = layer(x, enc_out, enc_out, src_mask, trg_mask)\n",
    "\n",
    "        out = self.fc_out(x)\n",
    "        return out"
   ]
  },
  {
   "cell_type": "code",
   "execution_count": 20,
   "metadata": {},
   "outputs": [],
   "source": [
    "num_epochs = 10000\n",
    "learning_rate = 3e-4\n",
    "batch_size = 4\n",
    "embedding_size = 512 \n",
    "num_heads = 8 \n",
    "num_encoder_layers = 6 \n",
    "num_deocder_layers = 6 \n",
    "dropout = 0.3 \n",
    "max_len = 128 \n",
    "forward_expansion = 4 \n",
    "\n",
    "gom_tokenizer = get_tokenizer('spacy', language='xx_sent_ud_sm')\n",
    "hin_tokenizer = get_tokenizer('spacy', language='xx_sent_ud_sm')\n",
    "\n",
    "\n",
    "def build_vocab(filepath, tokenizer1, tokenizer2):\n",
    "    counter1 = Counter()\n",
    "    counter2 = Counter()\n",
    "    with open(filepath) as csv_file:\n",
    "        csv_reader = csv.reader(csv_file, delimiter=',')\n",
    "        reader = unicode_csv_reader(csv_file)\n",
    "\n",
    "        for string_ in reader:\n",
    "            counter1.update(tokenizer1(string_[0]))\n",
    "            counter2.update(tokenizer2(string_[1]))\n",
    "    return Vocab(counter1, specials=['<unk>', '<pad>', '<bos>', '<eos>']), Vocab(counter2, specials=['<unk>', '<pad>', '<bos>', '<eos>'])\n",
    "\n",
    "\n",
    "gom_vocab, hin_vocab = build_vocab('train.csv', gom_tokenizer, hin_tokenizer)\n",
    "\n",
    "\n",
    "def data_process(filepath):\n",
    "    csv_file = open(filepath, encoding='utf8')\n",
    "    raw_data_iter = iter(unicode_csv_reader(csv_file))\n",
    "    data = []\n",
    "    for (raw_gom, raw_hin) in raw_data_iter:\n",
    "        gom_tensor_ = torch.tensor([gom_vocab[token] for token in gom_tokenizer(raw_gom)],\n",
    "                                   dtype=torch.long)\n",
    "        hin_tensor_ = torch.tensor([hin_vocab[token] for token in hin_tokenizer(raw_hin)],\n",
    "                                   dtype=torch.long)\n",
    "        data.append((gom_tensor_, hin_tensor_))\n",
    "    return data\n",
    "\n",
    "gom_vocab, hin_vocab = build_vocab('train.csv', gom_tokenizer, hin_tokenizer)\n",
    "train_data = data_process('train.csv')\n",
    "test_data = data_process('test.csv')\n",
    "\n",
    "src_vocab_size = len(gom_vocab)\n",
    "trg_vocab_size = len(hin_vocab)\n",
    "src_pad_idx = gom_vocab.stoi['<pad>']\n",
    "trg_pad_idx = hin_vocab.stoi['<pad>']\n",
    "pad_idx = gom_vocab['<pad>']\n",
    "bos_idx = gom_vocab['<bos>']\n",
    "eos_idx = gom_vocab['<eos>']\n",
    "\n",
    "def generate_batch(data_batch):\n",
    "    gom_batch, hin_batch = [], []\n",
    "    for (gom_item, hin_item) in data_batch:\n",
    "        gom_batch.append(\n",
    "            torch.cat([torch.tensor([bos_idx]), gom_item, torch.tensor([eos_idx])], dim=0))\n",
    "        hin_batch.append(\n",
    "            torch.cat([torch.tensor([bos_idx]), hin_item, torch.tensor([eos_idx])], dim=0))\n",
    "    gom_batch = pad_sequence(gom_batch, padding_value=pad_idx)\n",
    "    hin_batch = pad_sequence(hin_batch, padding_value=pad_idx)\n",
    "    return gom_batch, hin_batch    \n",
    "\n"
   ]
  },
  {
   "cell_type": "code",
   "execution_count": 12,
   "metadata": {},
   "outputs": [],
   "source": [
    "class Transformer(pl.LightningModule):\n",
    "    def __init__(self, src_vocab_size, trg_vocab_size, src_pad_idx, trg_pad_idx, embed_size=512, num_layers=6, forward_expansion=4, heads=8, dropout=0.3, max_length=128):\n",
    "        super(Transformer, self).__init__()\n",
    "        self.encoder = Encoder(src_vocab_size, embed_size, num_layers,\n",
    "                               heads, forward_expansion, dropout, max_length)\n",
    "\n",
    "        self.decoder = Decoder(trg_vocab_size, embed_size, num_layers,\n",
    "                               heads, forward_expansion, dropout, max_length)\n",
    "\n",
    "        self.src_pad_idx = src_pad_idx\n",
    "        self.trg_pad_idx = trg_pad_idx\n",
    "        \n",
    "        self.loss_fn = nn.CrossEntropyLoss(ignore_index=self.src_pad_idx)\n",
    "        #self.acc_metrics = torchmetrics.Accuracy()\n",
    "        \n",
    "        \n",
    "    def make_src_mask(self, src):\n",
    "        src_mask = (src != self.src_pad_idx).unsqueeze(1).unsqueeze(2)\n",
    "        # (N, 1, 1, src_len)\n",
    "        return src_mask.to(self.device)\n",
    "\n",
    "    def make_trg_mask(self, trg):\n",
    "        N, trg_len = trg.shape\n",
    "        trg_mask = torch.tril(torch.ones((trg_len, trg_len))\n",
    "                              ).expand(N, 1, trg_len, trg_len)\n",
    "        return trg_mask.to(self.device)\n",
    "\n",
    "    def forward(self, src, trg):\n",
    "        src = src.transpose(1, 0)  # batch_first\n",
    "        trg = trg.transpose(1, 0)  # batch_first\n",
    "\n",
    "        src_mask = self.make_src_mask(src)\n",
    "        trg_mask = self.make_trg_mask(trg)\n",
    "        enc_src = self.encoder(src, src_mask)\n",
    "        out = self.decoder(trg, enc_src, src_mask, trg_mask)\n",
    "        return out\n",
    "    def train_dataloader(self):\n",
    "        return DataLoader(train_data, shuffle=True, batch_size=batch_size, collate_fn=generate_batch) # collate_fn for similar sort batches \n",
    "\n",
    "    def val_dataloader(self):\n",
    "        return DataLoader(test_data, shuffle=True, batch_size=batch_size, collate_fn=generate_batch) # collate_fn for simialr sort batches \n",
    "\n",
    "\n",
    "    def configure_optimizers(self):\n",
    "        optimizer = torch.optim.Adam(self.parameters(), lr=learning_rate, betas=(0.9, 0.98), eps=1e-9)\n",
    "        scheduler = torch.optim.lr_scheduler.ReduceLROnPlateau(\n",
    "        optimizer, factor=0.1, patience=10, verbose=True)\n",
    "        return  {'optimizer': optimizer, 'lr_scheduler':scheduler, 'monitor':'val_loss'}\n",
    "        \n",
    "    \n",
    "    def training_step(self, train_batch, batch_idx):\n",
    "        src, trg = train_batch\n",
    "        output = self(src, trg[:-1, :])\n",
    "        output = output.transpose(1, 0)\n",
    "        output = output.reshape(-1, output.shape[2])\n",
    "        trg = trg[1:].reshape(-1)\n",
    "        train_loss = self.loss_fn(output, trg)\n",
    "        self.log('train_loss', train_loss, prog_bar=True)\n",
    "        return train_loss\n",
    "    \n",
    "    def validation_step(self, val_batch, batch_idx):\n",
    "        src, trg = val_batch\n",
    "        output = self(src, trg[:-1, :])\n",
    "        output = output.transpose(1, 0)\n",
    "        output = output.reshape(-1, output.shape[2])\n",
    "        trg = trg[1:].reshape(-1)\n",
    "        val_loss = self.loss_fn(output, trg)\n",
    "        self.log('val_loss', val_loss, prog_bar=True)\n",
    "        return val_loss\n",
    "    "
   ]
  },
  {
   "cell_type": "code",
   "execution_count": null,
   "metadata": {},
   "outputs": [],
   "source": []
  },
  {
   "cell_type": "code",
   "execution_count": 13,
   "metadata": {},
   "outputs": [],
   "source": [
    "model = Transformer(src_vocab_size, trg_vocab_size, src_pad_idx, trg_pad_idx)"
   ]
  },
  {
   "cell_type": "code",
   "execution_count": 14,
   "metadata": {},
   "outputs": [],
   "source": [
    "for p in model.parameters():\n",
    "    if p.dim() > 1:\n",
    "        nn.init.xavier_uniform_(p)"
   ]
  },
  {
   "cell_type": "code",
   "execution_count": 16,
   "metadata": {},
   "outputs": [
    {
     "name": "stderr",
     "output_type": "stream",
     "text": [
      "GPU available: True, used: True\n",
      "TPU available: False, using: 0 TPU cores\n",
      "LOCAL_RANK: 0 - CUDA_VISIBLE_DEVICES: [0]\n",
      "\n",
      "  | Name    | Type             | Params\n",
      "---------------------------------------------\n",
      "0 | encoder | Encoder          | 46.2 M\n",
      "1 | decoder | Decoder          | 128 M \n",
      "2 | loss_fn | CrossEntropyLoss | 0     \n",
      "---------------------------------------------\n",
      "174 M     Trainable params\n",
      "0         Non-trainable params\n",
      "174 M     Total params\n",
      "698.334   Total estimated model params size (MB)\n"
     ]
    },
    {
     "data": {
      "application/vnd.jupyter.widget-view+json": {
       "model_id": "876fac73c6274964ad0fe842bdc0e5c0",
       "version_major": 2,
       "version_minor": 0
      },
      "text/plain": [
       "HBox(children=(HTML(value='Validation sanity check'), FloatProgress(value=1.0, bar_style='info', layout=Layout…"
      ]
     },
     "metadata": {},
     "output_type": "display_data"
    },
    {
     "data": {
      "application/vnd.jupyter.widget-view+json": {
       "model_id": "7149ccc4c80c4d83b9e9ea1bb484c3de",
       "version_major": 2,
       "version_minor": 0
      },
      "text/plain": [
       "HBox(children=(HTML(value='Training'), FloatProgress(value=1.0, bar_style='info', layout=Layout(flex='2'), max…"
      ]
     },
     "metadata": {},
     "output_type": "display_data"
    },
    {
     "data": {
      "application/vnd.jupyter.widget-view+json": {
       "model_id": "",
       "version_major": 2,
       "version_minor": 0
      },
      "text/plain": [
       "HBox(children=(HTML(value='Validating'), FloatProgress(value=1.0, bar_style='info', layout=Layout(flex='2'), m…"
      ]
     },
     "metadata": {},
     "output_type": "display_data"
    },
    {
     "name": "stderr",
     "output_type": "stream",
     "text": [
      "/home/stephen/anaconda3/lib/python3.8/site-packages/pytorch_lightning/utilities/distributed.py:68: UserWarning: Detected KeyboardInterrupt, attempting graceful shutdown...\n",
      "  warnings.warn(*args, **kwargs)\n"
     ]
    },
    {
     "name": "stdout",
     "output_type": "stream",
     "text": [
      "\n"
     ]
    },
    {
     "data": {
      "text/plain": [
       "1"
      ]
     },
     "execution_count": 16,
     "metadata": {},
     "output_type": "execute_result"
    }
   ],
   "source": [
    "trainer = pl.Trainer(gpus=1, gradient_clip_val=1, max_epochs=num_epochs, progress_bar_refresh_rate=20, logger=wandb_logger)\n",
    "trainer.fit(model)"
   ]
  },
  {
   "cell_type": "code",
   "execution_count": null,
   "metadata": {},
   "outputs": [],
   "source": []
  }
 ],
 "metadata": {
  "kernelspec": {
   "display_name": "Python 3",
   "language": "python",
   "name": "python3"
  },
  "language_info": {
   "codemirror_mode": {
    "name": "ipython",
    "version": 3
   },
   "file_extension": ".py",
   "mimetype": "text/x-python",
   "name": "python",
   "nbconvert_exporter": "python",
   "pygments_lexer": "ipython3",
   "version": "3.8.5"
  }
 },
 "nbformat": 4,
 "nbformat_minor": 4
}
